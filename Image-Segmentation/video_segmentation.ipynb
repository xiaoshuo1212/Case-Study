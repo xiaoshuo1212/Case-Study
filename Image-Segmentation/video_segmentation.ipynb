{
 "cells": [
  {
   "cell_type": "markdown",
   "metadata": {
    "collapsed": false
   },
   "source": [
    "# PaddleHub+HumanSeg实现视频人像抠图\n",
    "\n",
    "> 使用PaddleHub内humanseg_serve模型进行视频流一键式人像抠图\n",
    "\n",
    "\n",
    "**本项目将视频流内人体提取，并将背景替换成绿幕**\n",
    "\n",
    "\n",
    "文档地址：[https://www.paddlepaddle.org.cn/hubdetail?name=humanseg_server&en_category=ImageSegmentation](https://www.paddlepaddle.org.cn/hubdetail?name=humanseg_server&en_category=ImageSegmentation)"
   ]
  },
  {
   "cell_type": "code",
   "execution_count": null,
   "metadata": {
    "collapsed": false
   },
   "outputs": [],
   "source": [
    "# 更新paddlehub版本至最新\r\n",
    "! pip install paddlehub -U"
   ]
  },
  {
   "cell_type": "code",
   "execution_count": null,
   "metadata": {
    "collapsed": false
   },
   "outputs": [],
   "source": [
    "# 安装humanseg_server模型\r\n",
    "! hub install humanseg_server"
   ]
  },
  {
   "cell_type": "code",
   "execution_count": null,
   "metadata": {
    "collapsed": false
   },
   "outputs": [],
   "source": [
    "# 查看已安装paddlehub模型\r\n",
    "! hub list"
   ]
  },
  {
   "cell_type": "code",
   "execution_count": null,
   "metadata": {
    "collapsed": false
   },
   "outputs": [],
   "source": [
    "# 将待抠图视频上传至work文件夹内\r\n",
    "# aistudio 最大上传的文件限制在150M以内\r\n",
    "! cd ~/work && ls\r\n"
   ]
  },
  {
   "cell_type": "code",
   "execution_count": null,
   "metadata": {
    "collapsed": false
   },
   "outputs": [],
   "source": [
    "import cv2\r\n",
    "import numpy as np\r\n",
    "import paddlehub as hub\r\n",
    "import os\r\n",
    "\r\n",
    "os.chdir('/home/aistudio/work')\r\n",
    "print(os.getcwd())\r\n",
    "os.environ[\"CUDA_VISIBLE_DEVICES\"] = \"0\"\r\n",
    "\r\n",
    "human_seg = hub.Module('humanseg_server')\r\n",
    "cap_video = cv2.VideoCapture('cam_MP4.mp4')\r\n",
    "fps = cap_video.get(cv2.CAP_PROP_FPS)\r\n",
    "save_path = 'humanseg_server_video.mp4'\r\n",
    "width = int(cap_video.get(cv2.CAP_PROP_FRAME_WIDTH))\r\n",
    "height = int(cap_video.get(cv2.CAP_PROP_FRAME_HEIGHT))\r\n",
    "# cap_out = cv2.VideoWriter(save_path, cv2.VideoWriter_fourcc('M', 'J', 'P', 'G'), fps, (width, height))\r\n",
    "cap_out = cv2.VideoWriter(save_path, cv2.VideoWriter_fourcc(*'mp4v'), fps, (width, height))\r\n",
    "prev_gray = None\r\n",
    "prev_cfd = None\r\n",
    "\r\n",
    "frame_toltal = cap_video.get(7)    # get all frame num\r\n",
    "frame_index = 0                    # current frame index\r\n",
    "\r\n",
    "while cap_video.isOpened():\r\n",
    "    ret, frame_org = cap_video.read()\r\n",
    "    if ret:\r\n",
    "        [img_matting, prev_gray, prev_cfd] = human_seg.video_stream_segment(frame_org=frame_org, frame_id=cap_video.get(1), prev_gray=prev_gray, prev_cfd=prev_cfd, use_gpu=True)\r\n",
    "        bg_im = cv2.imread('cam_1.jpg')\r\n",
    "        bg_im = cv2.resize(bg_im, (np.shape(img_matting)[1],np.shape(img_matting)[0]))\r\n",
    "        img_matting = np.repeat(img_matting[:, :, np.newaxis], 3, axis=2)\r\n",
    "        #bg_im = np.ones_like(img_matting) * 0\r\n",
    "        #print(img_matting)\r\n",
    "        #bg_im[:, :, 1] = 255       # get green canva\r\n",
    "        comb = (img_matting * frame_org + (1 - img_matting) * bg_im).astype(np.uint8)\r\n",
    "        cap_out.write(comb)\r\n",
    "\r\n",
    "        # show current information\r\n",
    "        frame_index += 1\r\n",
    "        print(\"Current Progress: {}/{}\".format(frame_index, int(frame_toltal)))\r\n",
    "    else:\r\n",
    "        break\r\n",
    "\r\n",
    "    # cv2.imshow('frame', comb)\r\n",
    "    # if cv2.waitKey(1) & 0xFF == ord('q'):\r\n",
    "    #     break\r\n",
    "\r\n",
    "cap_video.release()\r\n",
    "cap_out.release()"
   ]
  },
  {
   "cell_type": "markdown",
   "metadata": {
    "collapsed": false
   },
   "source": [
    "请点击[此处](https://ai.baidu.com/docs#/AIStudio_Project_Notebook/a38e5576)查看本环境基本用法.  <br>\n",
    "Please click [here ](https://ai.baidu.com/docs#/AIStudio_Project_Notebook/a38e5576) for more detailed instructions. "
   ]
  }
 ],
 "metadata": {
  "kernelspec": {
   "display_name": "PaddlePaddle 1.8.4 (Python 3.5)",
   "language": "python",
   "name": "py35-paddle1.2.0"
  },
  "language_info": {
   "codemirror_mode": {
    "name": "ipython",
    "version": 3
   },
   "file_extension": ".py",
   "mimetype": "text/x-python",
   "name": "python",
   "nbconvert_exporter": "python",
   "pygments_lexer": "ipython3",
   "version": "3.7.4"
  }
 },
 "nbformat": 4,
 "nbformat_minor": 1
}
